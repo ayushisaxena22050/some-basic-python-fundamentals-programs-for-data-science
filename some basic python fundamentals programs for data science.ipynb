{
 "cells": [
  {
   "cell_type": "code",
   "execution_count": 3,
   "metadata": {},
   "outputs": [
    {
     "data": {
      "text/plain": [
       "'xyzxyzxyzxyzxyzxyzxyzxyzxyz'"
      ]
     },
     "execution_count": 3,
     "metadata": {},
     "output_type": "execute_result"
    }
   ],
   "source": [
    "#1.Experiment with multiplying strings or lists with integers and see what happens. Having seen that ;create a variable which holds value ‘xyzxyzxyzxyzxyzxyzxyzxyzxyzxyz’\n",
    "string1 ='xyz'\n",
    "string1 *9"
   ]
  },
  {
   "cell_type": "code",
   "execution_count": 6,
   "metadata": {},
   "outputs": [
    {
     "data": {
      "text/plain": [
       "[[1, 2, 3, 4, 5, 6], [1, 4, 9, 16, 25, 36], [1, 8, 27, 64, 125, 216]]"
      ]
     },
     "execution_count": 6,
     "metadata": {},
     "output_type": "execute_result"
    }
   ],
   "source": [
    "#2.Using list comprehension ,list related functions or otherwise, create following list:\n",
    "#[[1, 2, 3, 4, 5, 6, 7], [1, 4, 9, 16, 25, 36, 49], [1, 8, 27, 64, 125, 216,343]]\n",
    "list1 =[i*1 for i in range(1,7)]\n",
    "list2 = [i**2 for i in range(1,7)]\n",
    "list3 = [i**3 for i in range(1,7)]\n",
    "final_list = [list1,list2,list3]\n",
    "final_list"
   ]
  },
  {
   "cell_type": "code",
   "execution_count": 40,
   "metadata": {},
   "outputs": [
    {
     "data": {
      "text/plain": [
       "[2, 4.0, 6.0, 8.0, 10.0, 12.0, 14.0, 16.0, 18.0, 20.0]"
      ]
     },
     "execution_count": 40,
     "metadata": {},
     "output_type": "execute_result"
    }
   ],
   "source": [
    "#3.Write a function which takes input as list and returns a list which contains a sequence of 10 equally spaced numbers between min and max of the string if minimum and maximum value of lists is same then it returns a list with 10 zeroes.\n",
    "# example:\n",
    "# input list : [20, 2, 6, 7, 10]\n",
    "# output list : [2,4,6,8,10,12,14,16,18,20] \n",
    "ar=[20, 2, 6, 7, 10]\n",
    "\n",
    "mx = max(ar)\n",
    "mn = min(ar)\n",
    "mx\n",
    "b = [mn]\n",
    "d = (mx - mn)/9\n",
    "for i in range(1,10):\n",
    "    temp = mn + d*i\n",
    "    b.append(temp)\n",
    "b\n",
    "   "
   ]
  },
  {
   "cell_type": "code",
   "execution_count": 59,
   "metadata": {},
   "outputs": [
    {
     "data": {
      "text/plain": [
       "[('four', 53), ('two', 54), ('three', 76), ('one', 89)]"
      ]
     },
     "execution_count": 59,
     "metadata": {},
     "output_type": "execute_result"
    }
   ],
   "source": [
    "#4.Show by example how to sort a dictionary by its values\n",
    "Two_digits ={'one':89,'two':54,'three':76,'four':53}\n",
    "sorted(Two_digits.items(), key = lambda kv :kv[1])\n"
   ]
  },
  {
   "cell_type": "code",
   "execution_count": 63,
   "metadata": {},
   "outputs": [
    {
     "data": {
      "text/plain": [
       "{'one': 89,\n",
       " 'two': 54,\n",
       " 'three': 76,\n",
       " 'four': 53,\n",
       " 'five': 222,\n",
       " 'six': 444,\n",
       " 'seven': 888,\n",
       " 'eight': 2345,\n",
       " 'nine': 8765,\n",
       " 'ten': 7632}"
      ]
     },
     "execution_count": 63,
     "metadata": {},
     "output_type": "execute_result"
    }
   ],
   "source": [
    "#5.Write a function which takes input 3 dictionaries and returns a new dictionary which has all key value pairs from those three dictionaries\n",
    "Two_digits ={'one':89,'two':54,'three':76,'four':53}\n",
    "Three_digits = {'five':222,'six':444,'seven':888}\n",
    "Four_digits = {'eight':2345,'nine':8765,'ten':7632}\n",
    "final = {**Two_digits,**Three_digits,**Four_digits}\n",
    "final"
   ]
  },
  {
   "cell_type": "code",
   "execution_count": 89,
   "metadata": {},
   "outputs": [
    {
     "data": {
      "text/plain": [
       "'gnirts'"
      ]
     },
     "execution_count": 89,
     "metadata": {},
     "output_type": "execute_result"
    }
   ],
   "source": [
    "#6.Write a function which takes input a string and returns reversed string example\n",
    "# input : “string”\n",
    "# output : “gnirts”\n",
    "inp = 'string'\n",
    "output=inp[::-1]\n",
    "output"
   ]
  },
  {
   "cell_type": "code",
   "execution_count": 18,
   "metadata": {},
   "outputs": [],
   "source": [
    "# 7. Consider this dictionary of addresses :\n",
    "# {“home” : [“Hyderabad”,“Lingampally”,“Ph:1234567890”],\n",
    "# “office”:[“Maharashtra”,“Mumbai”,“Ghatkopar”,“Ph : 5432167809”,“Pin :400043”],\n",
    "# “OOI” : [“Singapore”,“Ph : 09876345”]}\n",
    "# Write a program to extract phone numbers for each location\n",
    "\n",
    "\n",
    "import re\n",
    "info = {'Home': [\"Hyderabad\",\"Lingampally\",\"Ph:1234567890\"],\n",
    "\"office\":[\"Maharashtra\",\"Mumbai\",\"Ghatkopar\",\"Ph:5432167809\",\"Pin:400043\"],\n",
    "\"OOI\" : [\"Singapore\",\"Ph:09876345\"]} \n",
    "for x in info.values():\n",
    "    for y in x:\n",
    "        print(re.findall('Ph:\\\\d{10}',y))"
   ]
  },
  {
   "cell_type": "code",
   "execution_count": 65,
   "metadata": {},
   "outputs": [
    {
     "name": "stdout",
     "output_type": "stream",
     "text": [
      "3\n"
     ]
    }
   ],
   "source": [
    "#8.Write a Python function to find the greatest common divisor (gcd) of two integers.\n",
    "m , n = 15, 6 \n",
    "\n",
    "def gcd(m,n):\n",
    "    fm =[]\n",
    "    if(n > m):\n",
    "        m , n = n,m \n",
    "        gcd(m,n)\n",
    "    else:\n",
    "        for i in range(1,m):\n",
    "            if( m%i==0 and n%i==0 ):\n",
    "                fm.append(i)\n",
    "    print(fm[-1])\n",
    "   \n",
    "gcd(m,n)"
   ]
  },
  {
   "cell_type": "code",
   "execution_count": 5,
   "metadata": {},
   "outputs": [
    {
     "name": "stdout",
     "output_type": "stream",
     "text": [
      "Enter n3\n",
      "Enter q2\n",
      "temp: 1\n",
      "temp: 4\n",
      "temp: 9\n",
      "FinalCount 14\n"
     ]
    }
   ],
   "source": [
    "# 9.Write a function which takes input n and q and returns sum of qth powers of first n natural numbers\n",
    "import sys\n",
    "sys.version\n",
    "\n",
    "n = int(input('Enter n'))\n",
    "q = int(input('Enter q'))\n",
    "count =  0\n",
    "for i in range(1,n+1):\n",
    "    temp = i**q\n",
    "    \n",
    "    count = count + temp\n",
    "    \n",
    "print('FinalCount',count)"
   ]
  },
  {
   "cell_type": "code",
   "execution_count": 12,
   "metadata": {},
   "outputs": [
    {
     "name": "stdout",
     "output_type": "stream",
     "text": [
      "[3, 5, 6, 9, 10, 12, 18, 20, 21, 24, 25, 27, 33, 35, 36, 39, 40, 42, 48, 50, 51, 54, 55, 57, 63, 65, 66, 69, 70, 72, 78, 80, 81, 84, 85, 87, 93, 95, 96, 99]\n"
     ]
    }
   ],
   "source": [
    "#10.Find out all numbers between 1 to 100 which are divisible by either 3 or 5 but not by both.\n",
    "fm=[]\n",
    "for i in range(1,100):\n",
    "    if(i%3==0 and i%5==0):\n",
    "        i= i+1\n",
    "    else:\n",
    "        if (i%3==0 or i%5==0):\n",
    "            fm.append(i)\n",
    "        \n",
    "print(fm)"
   ]
  },
  {
   "cell_type": "code",
   "execution_count": 44,
   "metadata": {},
   "outputs": [
    {
     "name": "stdout",
     "output_type": "stream",
     "text": [
      "[0, 1, 1, 2, 3, 5, 8, 13, 21, 34, 55, 89, 144, 233, 377, 610]\n"
     ]
    }
   ],
   "source": [
    "#11.Write a function which takes input n and produces first n elements of a fibonacci seriesn = 15\n",
    "temp = [0,1]\n",
    "c = 1\n",
    "for i in range(2,n+1):\n",
    "    t= temp[i-1] + temp[i-2]\n",
    "    temp.append(t)\n",
    "\n",
    "print(temp)"
   ]
  }
 ],
 "metadata": {
  "kernelspec": {
   "display_name": "Python 3",
   "language": "python",
   "name": "python3"
  },
  "language_info": {
   "codemirror_mode": {
    "name": "ipython",
    "version": 3
   },
   "file_extension": ".py",
   "mimetype": "text/x-python",
   "name": "python",
   "nbconvert_exporter": "python",
   "pygments_lexer": "ipython3",
   "version": "3.6.4"
  }
 },
 "nbformat": 4,
 "nbformat_minor": 2
}
